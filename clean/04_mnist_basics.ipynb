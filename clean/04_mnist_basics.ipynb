{
 "cells": [
  {
   "cell_type": "code",
   "execution_count": 1,
   "metadata": {},
   "outputs": [],
   "source": [
    "#hide\n",
    "! [ -e /content ] && pip install -Uqq fastbook\n",
    "import fastbook\n",
    "fastbook.setup_book()"
   ]
  },
  {
   "cell_type": "code",
   "execution_count": 2,
   "metadata": {},
   "outputs": [],
   "source": [
    "#hide\n",
    "from fastai.vision.all import *\n",
    "from fastbook import *\n",
    "\n",
    "matplotlib.rc('image', cmap='Greys')"
   ]
  },
  {
   "cell_type": "markdown",
   "metadata": {},
   "source": [
    "# Under the Hood: Training a Digit Classifier"
   ]
  },
  {
   "cell_type": "markdown",
   "metadata": {},
   "source": [
    "## Pixels: The Foundations of Computer Vision"
   ]
  },
  {
   "cell_type": "markdown",
   "metadata": {},
   "source": [
    "## Sidebar: Tenacity and Deep Learning"
   ]
  },
  {
   "cell_type": "markdown",
   "metadata": {},
   "source": [
    "## End sidebar"
   ]
  },
  {
   "cell_type": "code",
   "execution_count": 3,
   "metadata": {},
   "outputs": [],
   "source": [
    "path = untar_data(URLs.MNIST_SAMPLE)"
   ]
  },
  {
   "cell_type": "code",
   "execution_count": 4,
   "metadata": {},
   "outputs": [],
   "source": [
    "#hide\n",
    "Path.BASE_PATH = path"
   ]
  },
  {
   "cell_type": "code",
   "execution_count": 5,
   "metadata": {},
   "outputs": [
    {
     "data": {
      "text/plain": [
       "(#3) [Path('valid'),Path('labels.csv'),Path('train')]"
      ]
     },
     "execution_count": 5,
     "metadata": {},
     "output_type": "execute_result"
    }
   ],
   "source": [
    "path.ls()"
   ]
  },
  {
   "cell_type": "code",
   "execution_count": 6,
   "metadata": {},
   "outputs": [
    {
     "data": {
      "text/plain": [
       "(#2) [Path('train/7'),Path('train/3')]"
      ]
     },
     "execution_count": 6,
     "metadata": {},
     "output_type": "execute_result"
    }
   ],
   "source": [
    "(path/'train').ls()"
   ]
  },
  {
   "cell_type": "code",
   "execution_count": 7,
   "metadata": {},
   "outputs": [
    {
     "data": {
      "text/plain": [
       "(#6131) [Path('train/3/10.png'),Path('train/3/10000.png'),Path('train/3/10011.png'),Path('train/3/10031.png'),Path('train/3/10034.png'),Path('train/3/10042.png'),Path('train/3/10052.png'),Path('train/3/1007.png'),Path('train/3/10074.png'),Path('train/3/10091.png')...]"
      ]
     },
     "execution_count": 7,
     "metadata": {},
     "output_type": "execute_result"
    }
   ],
   "source": [
    "threes = (path/'train'/'3').ls().sorted()\n",
    "sevens = (path/'train'/'7').ls().sorted()\n",
    "threes"
   ]
  },
  {
   "cell_type": "code",
   "execution_count": 8,
   "metadata": {},
   "outputs": [
    {
     "data": {
      "image/png": "[encoded data removed]",
      "text/plain": [
       "<PIL.PngImagePlugin.PngImageFile image mode=L size=28x28>"
      ]
     },
     "execution_count": 8,
     "metadata": {},
     "output_type": "execute_result"
    }
   ],
   "source": [
    "im3_path = threes[1]\n",
    "im3 = Image.open(im3_path)\n",
    "im3"
   ]
  },
  {
   "cell_type": "code",
   "execution_count": 9,
   "metadata": {},
   "outputs": [
    {
     "data": {
      "text/plain": [
       "array([[  0,   0,   0,   0,   0,   0],\n",
       "       [  0,   0,   0,   0,   0,  29],\n",
       "       [  0,   0,   0,  48, 166, 224],\n",
       "       [  0,  93, 244, 249, 253, 187],\n",
       "       [  0, 107, 253, 253, 230,  48],\n",
       "       [  0,   3,  20,  20,  15,   0]], dtype=uint8)"
      ]
     },
     "execution_count": 9,
     "metadata": {},
     "output_type": "execute_result"
    }
   ],
   "source": [
    "array(im3)[4:10,4:10]"
   ]
  },
  {
   "cell_type": "code",
   "execution_count": 10,
   "metadata": {},
   "outputs": [
    {
     "data": {
      "text/plain": [
       "tensor([[  0,   0,   0,   0,   0,   0],\n",
       "        [  0,   0,   0,   0,   0,  29],\n",
       "        [  0,   0,   0,  48, 166, 224],\n",
       "        [  0,  93, 244, 249, 253, 187],\n",
       "        [  0, 107, 253, 253, 230,  48],\n",
       "        [  0,   3,  20,  20,  15,   0]], dtype=torch.uint8)"
      ]
     },
     "execution_count": 10,
     "metadata": {},
     "output_type": "execute_result"
    }
   ],
   "source": [
    "tensor(im3)[4:10,4:10]"
   ]
  },
  {
   "cell_type": "code",
   "execution_count": 11,
   "metadata": {},
   "outputs": [
    {
     "data": {
      "text/html": [
       "<style type=\"text/css\">\n",
       "#T_71043_row0_col0, #T_71043_row0_col1, #T_71043_row0_col2, #T_71043_row0_col3, #T_71043_row0_col4, #T_71043_row0_col5, #T_71043_row0_col6, #T_71043_row0_col7, #T_71043_row0_col8, #T_71043_row0_col9, #T_71043_row0_col10, #T_71043_row0_col11, #T_71043_row0_col12, #T_71043_row0_col13, #T_71043_row0_col14, #T_71043_row0_col15, #T_71043_row0_col16, #T_71043_row0_col17, #T_71043_row1_col0, #T_71043_row1_col1, #T_71043_row1_col2, #T_71043_row1_col3, #T_71043_row1_col4, #T_71043_row1_col15, #T_71043_row1_col16, #T_71043_row1_col17, #T_71043_row2_col0, #T_71043_row2_col1, #T_71043_row2_col2, #T_71043_row2_col15, #T_71043_row2_col16, #T_71043_row2_col17, #T_71043_row3_col0, #T_71043_row3_col15, #T_71043_row3_col16, #T_71043_row3_col17, #T_71043_row4_col0, #T_71043_row4_col6, #T_71043_row4_col7, #T_71043_row4_col8, #T_71043_row4_col9, #T_71043_row4_col10, #T_71043_row4_col15, #T_71043_row4_col16, #T_71043_row4_col17, #T_71043_row5_col0, #T_71043_row5_col5, #T_71043_row5_col6, #T_71043_row5_col7, #T_71043_row5_col8, #T_71043_row5_col9, #T_71043_row5_col15, #T_71043_row5_col16, #T_71043_row5_col17, #T_71043_row6_col0, #T_71043_row6_col1, #T_71043_row6_col2, #T_71043_row6_col3, #T_71043_row6_col4, #T_71043_row6_col5, #T_71043_row6_col6, #T_71043_row6_col7, #T_71043_row6_col8, #T_71043_row6_col9, #T_71043_row6_col14, #T_71043_row6_col15, #T_71043_row6_col16, #T_71043_row6_col17, #T_71043_row7_col0, #T_71043_row7_col1, #T_71043_row7_col2, #T_71043_row7_col3, #T_71043_row7_col4, #T_71043_row7_col5, #T_71043_row7_col6, #T_71043_row7_col13, #T_71043_row7_col14, #T_71043_row7_col15, #T_71043_row7_col16, #T_71043_row7_col17, #T_71043_row8_col0, #T_71043_row8_col1, #T_71043_row8_col2, #T_71043_row8_col3, #T_71043_row8_col4, #T_71043_row8_col13, #T_71043_row8_col14, #T_71043_row8_col15, #T_71043_row8_col16, #T_71043_row8_col17, #T_71043_row9_col0, #T_71043_row9_col1, #T_71043_row9_col2, #T_71043_row9_col3, #T_71043_row9_col4, #T_71043_row9_col16, #T_71043_row9_col17, #T_71043_row10_col0, #T_71043_row10_col1, #T_71043_row10_col2, #T_71043_row10_col3, #T_71043_row10_col4, #T_71043_row10_col5, #T_71043_row10_col6, #T_71043_row10_col17 {\n",
       "  font-size: 6pt;\n",
       "  background-color: #ffffff;\n",
       "  color: #000000;\n",
       "}\n",
       "#T_71043_row1_col5 {\n",
       "  font-size: 6pt;\n",
       "  background-color: #efefef;\n",
       "  color: #000000;\n",
       "}\n",
       "#T_71043_row1_col6, #T_71043_row1_col13 {\n",
       "  font-size: 6pt;\n",
       "  background-color: #7c7c7c;\n",
       "  color: #f1f1f1;\n",
       "}\n",
       "#T_71043_row1_col7 {\n",
       "  font-size: 6pt;\n",
       "  background-color: #4a4a4a;\n",
       "  color: #f1f1f1;\n",
       "}\n",
       "#T_71043_row1_col8, #T_71043_row1_col9, #T_71043_row1_col10, #T_71043_row2_col5, #T_71043_row2_col6, #T_71043_row2_col7, #T_71043_row2_col11, #T_71043_row2_col12, #T_71043_row2_col13, #T_71043_row3_col4, #T_71043_row3_col12, #T_71043_row3_col13, #T_71043_row4_col1, #T_71043_row4_col2, #T_71043_row4_col3, #T_71043_row4_col12, #T_71043_row4_col13, #T_71043_row5_col12, #T_71043_row6_col11, #T_71043_row9_col11, #T_71043_row10_col11, #T_71043_row10_col12, #T_71043_row10_col13, #T_71043_row10_col14, #T_71043_row10_col15, #T_71043_row10_col16 {\n",
       "  font-size: 6pt;\n",
       "  background-color: #000000;\n",
       "  color: #f1f1f1;\n",
       "}\n",
       "#T_71043_row1_col11 {\n",
       "  font-size: 6pt;\n",
       "  background-color: #606060;\n",
       "  color: #f1f1f1;\n",
       "}\n",
       "#T_71043_row1_col12 {\n",
       "  font-size: 6pt;\n",
       "  background-color: #4d4d4d;\n",
       "  color: #f1f1f1;\n",
       "}\n",
       "#T_71043_row1_col14 {\n",
       "  font-size: 6pt;\n",
       "  background-color: #bbbbbb;\n",
       "  color: #000000;\n",
       "}\n",
       "#T_71043_row2_col3 {\n",
       "  font-size: 6pt;\n",
       "  background-color: #e4e4e4;\n",
       "  color: #000000;\n",
       "}\n",
       "#T_71043_row2_col4, #T_71043_row8_col6 {\n",
       "  font-size: 6pt;\n",
       "  background-color: #6b6b6b;\n",
       "  color: #f1f1f1;\n",
       "}\n",
       "#T_71043_row2_col8, #T_71043_row2_col14, #T_71043_row3_col14 {\n",
       "  font-size: 6pt;\n",
       "  background-color: #171717;\n",
       "  color: #f1f1f1;\n",
       "}\n",
       "#T_71043_row2_col9, #T_71043_row3_col11 {\n",
       "  font-size: 6pt;\n",
       "  background-color: #4b4b4b;\n",
       "  color: #f1f1f1;\n",
       "}\n",
       "#T_71043_row2_col10, #T_71043_row7_col10, #T_71043_row8_col8, #T_71043_row8_col10, #T_71043_row9_col8, #T_71043_row9_col10 {\n",
       "  font-size: 6pt;\n",
       "  background-color: #010101;\n",
       "  color: #f1f1f1;\n",
       "}\n",
       "#T_71043_row3_col1 {\n",
       "  font-size: 6pt;\n",
       "  background-color: #272727;\n",
       "  color: #f1f1f1;\n",
       "}\n",
       "#T_71043_row3_col2 {\n",
       "  font-size: 6pt;\n",
       "  background-color: #0a0a0a;\n",
       "  color: #f1f1f1;\n",
       "}\n",
       "#T_71043_row3_col3 {\n",
       "  font-size: 6pt;\n",
       "  background-color: #050505;\n",
       "  color: #f1f1f1;\n",
       "}\n",
       "#T_71043_row3_col5 {\n",
       "  font-size: 6pt;\n",
       "  background-color: #333333;\n",
       "  color: #f1f1f1;\n",
       "}\n",
       "#T_71043_row3_col6 {\n",
       "  font-size: 6pt;\n",
       "  background-color: #e6e6e6;\n",
       "  color: #000000;\n",
       "}\n",
       "#T_71043_row3_col7, #T_71043_row3_col10 {\n",
       "  font-size: 6pt;\n",
       "  background-color: #fafafa;\n",
       "  color: #000000;\n",
       "}\n",
       "#T_71043_row3_col8 {\n",
       "  font-size: 6pt;\n",
       "  background-color: #fbfbfb;\n",
       "  color: #000000;\n",
       "}\n",
       "#T_71043_row3_col9 {\n",
       "  font-size: 6pt;\n",
       "  background-color: #fdfdfd;\n",
       "  color: #000000;\n",
       "}\n",
       "#T_71043_row4_col4 {\n",
       "  font-size: 6pt;\n",
       "  background-color: #1b1b1b;\n",
       "  color: #f1f1f1;\n",
       "}\n",
       "#T_71043_row4_col5 {\n",
       "  font-size: 6pt;\n",
       "  background-color: #e0e0e0;\n",
       "  color: #000000;\n",
       "}\n",
       "#T_71043_row4_col11 {\n",
       "  font-size: 6pt;\n",
       "  background-color: #4e4e4e;\n",
       "  color: #f1f1f1;\n",
       "}\n",
       "#T_71043_row4_col14 {\n",
       "  font-size: 6pt;\n",
       "  background-color: #767676;\n",
       "  color: #f1f1f1;\n",
       "}\n",
       "#T_71043_row5_col1 {\n",
       "  font-size: 6pt;\n",
       "  background-color: #fcfcfc;\n",
       "  color: #000000;\n",
       "}\n",
       "#T_71043_row5_col2, #T_71043_row5_col3 {\n",
       "  font-size: 6pt;\n",
       "  background-color: #f6f6f6;\n",
       "  color: #000000;\n",
       "}\n",
       "#T_71043_row5_col4, #T_71043_row7_col7 {\n",
       "  font-size: 6pt;\n",
       "  background-color: #f8f8f8;\n",
       "  color: #000000;\n",
       "}\n",
       "#T_71043_row5_col10, #T_71043_row10_col7 {\n",
       "  font-size: 6pt;\n",
       "  background-color: #e8e8e8;\n",
       "  color: #000000;\n",
       "}\n",
       "#T_71043_row5_col11 {\n",
       "  font-size: 6pt;\n",
       "  background-color: #222222;\n",
       "  color: #f1f1f1;\n",
       "}\n",
       "#T_71043_row5_col13, #T_71043_row6_col12 {\n",
       "  font-size: 6pt;\n",
       "  background-color: #090909;\n",
       "  color: #f1f1f1;\n",
       "}\n",
       "#T_71043_row5_col14 {\n",
       "  font-size: 6pt;\n",
       "  background-color: #d0d0d0;\n",
       "  color: #000000;\n",
       "}\n",
       "#T_71043_row6_col10, #T_71043_row7_col11, #T_71043_row9_col6 {\n",
       "  font-size: 6pt;\n",
       "  background-color: #060606;\n",
       "  color: #f1f1f1;\n",
       "}\n",
       "#T_71043_row6_col13 {\n",
       "  font-size: 6pt;\n",
       "  background-color: #979797;\n",
       "  color: #f1f1f1;\n",
       "}\n",
       "#T_71043_row7_col8 {\n",
       "  font-size: 6pt;\n",
       "  background-color: #b6b6b6;\n",
       "  color: #000000;\n",
       "}\n",
       "#T_71043_row7_col9 {\n",
       "  font-size: 6pt;\n",
       "  background-color: #252525;\n",
       "  color: #f1f1f1;\n",
       "}\n",
       "#T_71043_row7_col12 {\n",
       "  font-size: 6pt;\n",
       "  background-color: #999999;\n",
       "  color: #f1f1f1;\n",
       "}\n",
       "#T_71043_row8_col5 {\n",
       "  font-size: 6pt;\n",
       "  background-color: #f9f9f9;\n",
       "  color: #000000;\n",
       "}\n",
       "#T_71043_row8_col7 {\n",
       "  font-size: 6pt;\n",
       "  background-color: #101010;\n",
       "  color: #f1f1f1;\n",
       "}\n",
       "#T_71043_row8_col9, #T_71043_row9_col9 {\n",
       "  font-size: 6pt;\n",
       "  background-color: #020202;\n",
       "  color: #f1f1f1;\n",
       "}\n",
       "#T_71043_row8_col11 {\n",
       "  font-size: 6pt;\n",
       "  background-color: #545454;\n",
       "  color: #f1f1f1;\n",
       "}\n",
       "#T_71043_row8_col12 {\n",
       "  font-size: 6pt;\n",
       "  background-color: #f1f1f1;\n",
       "  color: #000000;\n",
       "}\n",
       "#T_71043_row9_col5 {\n",
       "  font-size: 6pt;\n",
       "  background-color: #f7f7f7;\n",
       "  color: #000000;\n",
       "}\n",
       "#T_71043_row9_col7 {\n",
       "  font-size: 6pt;\n",
       "  background-color: #030303;\n",
       "  color: #f1f1f1;\n",
       "}\n",
       "#T_71043_row9_col12 {\n",
       "  font-size: 6pt;\n",
       "  background-color: #181818;\n",
       "  color: #f1f1f1;\n",
       "}\n",
       "#T_71043_row9_col13 {\n",
       "  font-size: 6pt;\n",
       "  background-color: #303030;\n",
       "  color: #f1f1f1;\n",
       "}\n",
       "#T_71043_row9_col14 {\n",
       "  font-size: 6pt;\n",
       "  background-color: #a9a9a9;\n",
       "  color: #f1f1f1;\n",
       "}\n",
       "#T_71043_row9_col15 {\n",
       "  font-size: 6pt;\n",
       "  background-color: #fefefe;\n",
       "  color: #000000;\n",
       "}\n",
       "#T_71043_row10_col8, #T_71043_row10_col9 {\n",
       "  font-size: 6pt;\n",
       "  background-color: #bababa;\n",
       "  color: #000000;\n",
       "}\n",
       "#T_71043_row10_col10 {\n",
       "  font-size: 6pt;\n",
       "  background-color: #393939;\n",
       "  color: #f1f1f1;\n",
       "}\n",
       "</style>\n",
       "<table id=\"T_71043\">\n",
       "  <thead>\n",
       "    <tr>\n",
       "      <th class=\"blank level0\" >&nbsp;</th>\n",
       "      <th id=\"T_71043_level0_col0\" class=\"col_heading level0 col0\" >0</th>\n",
       "      <th id=\"T_71043_level0_col1\" class=\"col_heading level0 col1\" >1</th>\n",
       "      <th id=\"T_71043_level0_col2\" class=\"col_heading level0 col2\" >2</th>\n",
       "      <th id=\"T_71043_level0_col3\" class=\"col_heading level0 col3\" >3</th>\n",
       "      <th id=\"T_71043_level0_col4\" class=\"col_heading level0 col4\" >4</th>\n",
       "      <th id=\"T_71043_level0_col5\" class=\"col_heading level0 col5\" >5</th>\n",
       "      <th id=\"T_71043_level0_col6\" class=\"col_heading level0 col6\" >6</th>\n",
       "      <th id=\"T_71043_level0_col7\" class=\"col_heading level0 col7\" >7</th>\n",
       "      <th id=\"T_71043_level0_col8\" class=\"col_heading level0 col8\" >8</th>\n",
       "      <th id=\"T_71043_level0_col9\" class=\"col_heading level0 col9\" >9</th>\n",
       "      <th id=\"T_71043_level0_col10\" class=\"col_heading level0 col10\" >10</th>\n",
       "      <th id=\"T_71043_level0_col11\" class=\"col_heading level0 col11\" >11</th>\n",
       "      <th id=\"T_71043_level0_col12\" class=\"col_heading level0 col12\" >12</th>\n",
       "      <th id=\"T_71043_level0_col13\" class=\"col_heading level0 col13\" >13</th>\n",
       "      <th id=\"T_71043_level0_col14\" class=\"col_heading level0 col14\" >14</th>\n",
       "      <th id=\"T_71043_level0_col15\" class=\"col_heading level0 col15\" >15</th>\n",
       "      <th id=\"T_71043_level0_col16\" class=\"col_heading level0 col16\" >16</th>\n",
       "      <th id=\"T_71043_level0_col17\" class=\"col_heading level0 col17\" >17</th>\n",
       "    </tr>\n",
       "  </thead>\n",
       "  <tbody>\n",
       "    <tr>\n",
       "      <th id=\"T_71043_level0_row0\" class=\"row_heading level0 row0\" >0</th>\n",
       "      <td id=\"T_71043_row0_col0\" class=\"data row0 col0\" >0</td>\n",
       "      <td id=\"T_71043_row0_col1\" class=\"data row0 col1\" >0</td>\n",
       "      <td id=\"T_71043_row0_col2\" class=\"data row0 col2\" >0</td>\n",
       "      <td id=\"T_71043_row0_col3\" class=\"data row0 col3\" >0</td>\n",
       "      <td id=\"T_71043_row0_col4\" class=\"data row0 col4\" >0</td>\n",
       "      <td id=\"T_71043_row0_col5\" class=\"data row0 col5\" >0</td>\n",
       "      <td id=\"T_71043_row0_col6\" class=\"data row0 col6\" >0</td>\n",
       "      <td id=\"T_71043_row0_col7\" class=\"data row0 col7\" >0</td>\n",
       "      <td id=\"T_71043_row0_col8\" class=\"data row0 col8\" >0</td>\n",
       "      <td id=\"T_71043_row0_col9\" class=\"data row0 col9\" >0</td>\n",
       "      <td id=\"T_71043_row0_col10\" class=\"data row0 col10\" >0</td>\n",
       "      <td id=\"T_71043_row0_col11\" class=\"data row0 col11\" >0</td>\n",
       "      <td id=\"T_71043_row0_col12\" class=\"data row0 col12\" >0</td>\n",
       "      <td id=\"T_71043_row0_col13\" class=\"data row0 col13\" >0</td>\n",
       "      <td id=\"T_71043_row0_col14\" class=\"data row0 col14\" >0</td>\n",
       "      <td id=\"T_71043_row0_col15\" class=\"data row0 col15\" >0</td>\n",
       "      <td id=\"T_71043_row0_col16\" class=\"data row0 col16\" >0</td>\n",
       "      <td id=\"T_71043_row0_col17\" class=\"data row0 col17\" >0</td>\n",
       "    </tr>\n",
       "    <tr>\n",
       "      <th id=\"T_71043_level0_row1\" class=\"row_heading level0 row1\" >1</th>\n",
       "      <td id=\"T_71043_row1_col0\" class=\"data row1 col0\" >0</td>\n",
       "      <td id=\"T_71043_row1_col1\" class=\"data row1 col1\" >0</td>\n",
       "      <td id=\"T_71043_row1_col2\" class=\"data row1 col2\" >0</td>\n",
       "      <td id=\"T_71043_row1_col3\" class=\"data row1 col3\" >0</td>\n",
       "      <td id=\"T_71043_row1_col4\" class=\"data row1 col4\" >0</td>\n",
       "      <td id=\"T_71043_row1_col5\" class=\"data row1 col5\" >29</td>\n",
       "      <td id=\"T_71043_row1_col6\" class=\"data row1 col6\" >150</td>\n",
       "      <td id=\"T_71043_row1_col7\" class=\"data row1 col7\" >195</td>\n",
       "      <td id=\"T_71043_row1_col8\" class=\"data row1 col8\" >254</td>\n",
       "      <td id=\"T_71043_row1_col9\" class=\"data row1 col9\" >255</td>\n",
       "      <td id=\"T_71043_row1_col10\" class=\"data row1 col10\" >254</td>\n",
       "      <td id=\"T_71043_row1_col11\" class=\"data row1 col11\" >176</td>\n",
       "      <td id=\"T_71043_row1_col12\" class=\"data row1 col12\" >193</td>\n",
       "      <td id=\"T_71043_row1_col13\" class=\"data row1 col13\" >150</td>\n",
       "      <td id=\"T_71043_row1_col14\" class=\"data row1 col14\" >96</td>\n",
       "      <td id=\"T_71043_row1_col15\" class=\"data row1 col15\" >0</td>\n",
       "      <td id=\"T_71043_row1_col16\" class=\"data row1 col16\" >0</td>\n",
       "      <td id=\"T_71043_row1_col17\" class=\"data row1 col17\" >0</td>\n",
       "    </tr>\n",
       "    <tr>\n",
       "      <th id=\"T_71043_level0_row2\" class=\"row_heading level0 row2\" >2</th>\n",
       "      <td id=\"T_71043_row2_col0\" class=\"data row2 col0\" >0</td>\n",
       "      <td id=\"T_71043_row2_col1\" class=\"data row2 col1\" >0</td>\n",
       "      <td id=\"T_71043_row2_col2\" class=\"data row2 col2\" >0</td>\n",
       "      <td id=\"T_71043_row2_col3\" class=\"data row2 col3\" >48</td>\n",
       "      <td id=\"T_71043_row2_col4\" class=\"data row2 col4\" >166</td>\n",
       "      <td id=\"T_71043_row2_col5\" class=\"data row2 col5\" >224</td>\n",
       "      <td id=\"T_71043_row2_col6\" class=\"data row2 col6\" >253</td>\n",
       "      <td id=\"T_71043_row2_col7\" class=\"data row2 col7\" >253</td>\n",
       "      <td id=\"T_71043_row2_col8\" class=\"data row2 col8\" >234</td>\n",
       "      <td id=\"T_71043_row2_col9\" class=\"data row2 col9\" >196</td>\n",
       "      <td id=\"T_71043_row2_col10\" class=\"data row2 col10\" >253</td>\n",
       "      <td id=\"T_71043_row2_col11\" class=\"data row2 col11\" >253</td>\n",
       "      <td id=\"T_71043_row2_col12\" class=\"data row2 col12\" >253</td>\n",
       "      <td id=\"T_71043_row2_col13\" class=\"data row2 col13\" >253</td>\n",
       "      <td id=\"T_71043_row2_col14\" class=\"data row2 col14\" >233</td>\n",
       "      <td id=\"T_71043_row2_col15\" class=\"data row2 col15\" >0</td>\n",
       "      <td id=\"T_71043_row2_col16\" class=\"data row2 col16\" >0</td>\n",
       "      <td id=\"T_71043_row2_col17\" class=\"data row2 col17\" >0</td>\n",
       "    </tr>\n",
       "    <tr>\n",
       "      <th id=\"T_71043_level0_row3\" class=\"row_heading level0 row3\" >3</th>\n",
       "      <td id=\"T_71043_row3_col0\" class=\"data row3 col0\" >0</td>\n",
       "      <td id=\"T_71043_row3_col1\" class=\"data row3 col1\" >93</td>\n",
       "      <td id=\"T_71043_row3_col2\" class=\"data row3 col2\" >244</td>\n",
       "      <td id=\"T_71043_row3_col3\" class=\"data row3 col3\" >249</td>\n",
       "      <td id=\"T_71043_row3_col4\" class=\"data row3 col4\" >253</td>\n",
       "      <td id=\"T_71043_row3_col5\" class=\"data row3 col5\" >187</td>\n",
       "      <td id=\"T_71043_row3_col6\" class=\"data row3 col6\" >46</td>\n",
       "      <td id=\"T_71043_row3_col7\" class=\"data row3 col7\" >10</td>\n",
       "      <td id=\"T_71043_row3_col8\" class=\"data row3 col8\" >8</td>\n",
       "      <td id=\"T_71043_row3_col9\" class=\"data row3 col9\" >4</td>\n",
       "      <td id=\"T_71043_row3_col10\" class=\"data row3 col10\" >10</td>\n",
       "      <td id=\"T_71043_row3_col11\" class=\"data row3 col11\" >194</td>\n",
       "      <td id=\"T_71043_row3_col12\" class=\"data row3 col12\" >253</td>\n",
       "      <td id=\"T_71043_row3_col13\" class=\"data row3 col13\" >253</td>\n",
       "      <td id=\"T_71043_row3_col14\" class=\"data row3 col14\" >233</td>\n",
       "      <td id=\"T_71043_row3_col15\" class=\"data row3 col15\" >0</td>\n",
       "      <td id=\"T_71043_row3_col16\" class=\"data row3 col16\" >0</td>\n",
       "      <td id=\"T_71043_row3_col17\" class=\"data row3 col17\" >0</td>\n",
       "    </tr>\n",
       "    <tr>\n",
       "      <th id=\"T_71043_level0_row4\" class=\"row_heading level0 row4\" >4</th>\n",
       "      <td id=\"T_71043_row4_col0\" class=\"data row4 col0\" >0</td>\n",
       "      <td id=\"T_71043_row4_col1\" class=\"data row4 col1\" >107</td>\n",
       "      <td id=\"T_71043_row4_col2\" class=\"data row4 col2\" >253</td>\n",
       "      <td id=\"T_71043_row4_col3\" class=\"data row4 col3\" >253</td>\n",
       "      <td id=\"T_71043_row4_col4\" class=\"data row4 col4\" >230</td>\n",
       "      <td id=\"T_71043_row4_col5\" class=\"data row4 col5\" >48</td>\n",
       "      <td id=\"T_71043_row4_col6\" class=\"data row4 col6\" >0</td>\n",
       "      <td id=\"T_71043_row4_col7\" class=\"data row4 col7\" >0</td>\n",
       "      <td id=\"T_71043_row4_col8\" class=\"data row4 col8\" >0</td>\n",
       "      <td id=\"T_71043_row4_col9\" class=\"data row4 col9\" >0</td>\n",
       "      <td id=\"T_71043_row4_col10\" class=\"data row4 col10\" >0</td>\n",
       "      <td id=\"T_71043_row4_col11\" class=\"data row4 col11\" >192</td>\n",
       "      <td id=\"T_71043_row4_col12\" class=\"data row4 col12\" >253</td>\n",
       "      <td id=\"T_71043_row4_col13\" class=\"data row4 col13\" >253</td>\n",
       "      <td id=\"T_71043_row4_col14\" class=\"data row4 col14\" >156</td>\n",
       "      <td id=\"T_71043_row4_col15\" class=\"data row4 col15\" >0</td>\n",
       "      <td id=\"T_71043_row4_col16\" class=\"data row4 col16\" >0</td>\n",
       "      <td id=\"T_71043_row4_col17\" class=\"data row4 col17\" >0</td>\n",
       "    </tr>\n",
       "    <tr>\n",
       "      <th id=\"T_71043_level0_row5\" class=\"row_heading level0 row5\" >5</th>\n",
       "      <td id=\"T_71043_row5_col0\" class=\"data row5 col0\" >0</td>\n",
       "      <td id=\"T_71043_row5_col1\" class=\"data row5 col1\" >3</td>\n",
       "      <td id=\"T_71043_row5_col2\" class=\"data row5 col2\" >20</td>\n",
       "      <td id=\"T_71043_row5_col3\" class=\"data row5 col3\" >20</td>\n",
       "      <td id=\"T_71043_row5_col4\" class=\"data row5 col4\" >15</td>\n",
       "      <td id=\"T_71043_row5_col5\" class=\"data row5 col5\" >0</td>\n",
       "      <td id=\"T_71043_row5_col6\" class=\"data row5 col6\" >0</td>\n",
       "      <td id=\"T_71043_row5_col7\" class=\"data row5 col7\" >0</td>\n",
       "      <td id=\"T_71043_row5_col8\" class=\"data row5 col8\" >0</td>\n",
       "      <td id=\"T_71043_row5_col9\" class=\"data row5 col9\" >0</td>\n",
       "      <td id=\"T_71043_row5_col10\" class=\"data row5 col10\" >43</td>\n",
       "      <td id=\"T_71043_row5_col11\" class=\"data row5 col11\" >224</td>\n",
       "      <td id=\"T_71043_row5_col12\" class=\"data row5 col12\" >253</td>\n",
       "      <td id=\"T_71043_row5_col13\" class=\"data row5 col13\" >245</td>\n",
       "      <td id=\"T_71043_row5_col14\" class=\"data row5 col14\" >74</td>\n",
       "      <td id=\"T_71043_row5_col15\" class=\"data row5 col15\" >0</td>\n",
       "      <td id=\"T_71043_row5_col16\" class=\"data row5 col16\" >0</td>\n",
       "      <td id=\"T_71043_row5_col17\" class=\"data row5 col17\" >0</td>\n",
       "    </tr>\n",
       "    <tr>\n",
       "      <th id=\"T_71043_level0_row6\" class=\"row_heading level0 row6\" >6</th>\n",
       "      <td id=\"T_71043_row6_col0\" class=\"data row6 col0\" >0</td>\n",
       "      <td id=\"T_71043_row6_col1\" class=\"data row6 col1\" >0</td>\n",
       "      <td id=\"T_71043_row6_col2\" class=\"data row6 col2\" >0</td>\n",
       "      <td id=\"T_71043_row6_col3\" class=\"data row6 col3\" >0</td>\n",
       "      <td id=\"T_71043_row6_col4\" class=\"data row6 col4\" >0</td>\n",
       "      <td id=\"T_71043_row6_col5\" class=\"data row6 col5\" >0</td>\n",
       "      <td id=\"T_71043_row6_col6\" class=\"data row6 col6\" >0</td>\n",
       "      <td id=\"T_71043_row6_col7\" class=\"data row6 col7\" >0</td>\n",
       "      <td id=\"T_71043_row6_col8\" class=\"data row6 col8\" >0</td>\n",
       "      <td id=\"T_71043_row6_col9\" class=\"data row6 col9\" >0</td>\n",
       "      <td id=\"T_71043_row6_col10\" class=\"data row6 col10\" >249</td>\n",
       "      <td id=\"T_71043_row6_col11\" class=\"data row6 col11\" >253</td>\n",
       "      <td id=\"T_71043_row6_col12\" class=\"data row6 col12\" >245</td>\n",
       "      <td id=\"T_71043_row6_col13\" class=\"data row6 col13\" >126</td>\n",
       "      <td id=\"T_71043_row6_col14\" class=\"data row6 col14\" >0</td>\n",
       "      <td id=\"T_71043_row6_col15\" class=\"data row6 col15\" >0</td>\n",
       "      <td id=\"T_71043_row6_col16\" class=\"data row6 col16\" >0</td>\n",
       "      <td id=\"T_71043_row6_col17\" class=\"data row6 col17\" >0</td>\n",
       "    </tr>\n",
       "    <tr>\n",
       "      <th id=\"T_71043_level0_row7\" class=\"row_heading level0 row7\" >7</th>\n",
       "      <td id=\"T_71043_row7_col0\" class=\"data row7 col0\" >0</td>\n",
       "      <td id=\"T_71043_row7_col1\" class=\"data row7 col1\" >0</td>\n",
       "      <td id=\"T_71043_row7_col2\" class=\"data row7 col2\" >0</td>\n",
       "      <td id=\"T_71043_row7_col3\" class=\"data row7 col3\" >0</td>\n",
       "      <td id=\"T_71043_row7_col4\" class=\"data row7 col4\" >0</td>\n",
       "      <td id=\"T_71043_row7_col5\" class=\"data row7 col5\" >0</td>\n",
       "      <td id=\"T_71043_row7_col6\" class=\"data row7 col6\" >0</td>\n",
       "      <td id=\"T_71043_row7_col7\" class=\"data row7 col7\" >14</td>\n",
       "      <td id=\"T_71043_row7_col8\" class=\"data row7 col8\" >101</td>\n",
       "      <td id=\"T_71043_row7_col9\" class=\"data row7 col9\" >223</td>\n",
       "      <td id=\"T_71043_row7_col10\" class=\"data row7 col10\" >253</td>\n",
       "      <td id=\"T_71043_row7_col11\" class=\"data row7 col11\" >248</td>\n",
       "      <td id=\"T_71043_row7_col12\" class=\"data row7 col12\" >124</td>\n",
       "      <td id=\"T_71043_row7_col13\" class=\"data row7 col13\" >0</td>\n",
       "      <td id=\"T_71043_row7_col14\" class=\"data row7 col14\" >0</td>\n",
       "      <td id=\"T_71043_row7_col15\" class=\"data row7 col15\" >0</td>\n",
       "      <td id=\"T_71043_row7_col16\" class=\"data row7 col16\" >0</td>\n",
       "      <td id=\"T_71043_row7_col17\" class=\"data row7 col17\" >0</td>\n",
       "    </tr>\n",
       "    <tr>\n",
       "      <th id=\"T_71043_level0_row8\" class=\"row_heading level0 row8\" >8</th>\n",
       "      <td id=\"T_71043_row8_col0\" class=\"data row8 col0\" >0</td>\n",
       "      <td id=\"T_71043_row8_col1\" class=\"data row8 col1\" >0</td>\n",
       "      <td id=\"T_71043_row8_col2\" class=\"data row8 col2\" >0</td>\n",
       "      <td id=\"T_71043_row8_col3\" class=\"data row8 col3\" >0</td>\n",
       "      <td id=\"T_71043_row8_col4\" class=\"data row8 col4\" >0</td>\n",
       "      <td id=\"T_71043_row8_col5\" class=\"data row8 col5\" >11</td>\n",
       "      <td id=\"T_71043_row8_col6\" class=\"data row8 col6\" >166</td>\n",
       "      <td id=\"T_71043_row8_col7\" class=\"data row8 col7\" >239</td>\n",
       "      <td id=\"T_71043_row8_col8\" class=\"data row8 col8\" >253</td>\n",
       "      <td id=\"T_71043_row8_col9\" class=\"data row8 col9\" >253</td>\n",
       "      <td id=\"T_71043_row8_col10\" class=\"data row8 col10\" >253</td>\n",
       "      <td id=\"T_71043_row8_col11\" class=\"data row8 col11\" >187</td>\n",
       "      <td id=\"T_71043_row8_col12\" class=\"data row8 col12\" >30</td>\n",
       "      <td id=\"T_71043_row8_col13\" class=\"data row8 col13\" >0</td>\n",
       "      <td id=\"T_71043_row8_col14\" class=\"data row8 col14\" >0</td>\n",
       "      <td id=\"T_71043_row8_col15\" class=\"data row8 col15\" >0</td>\n",
       "      <td id=\"T_71043_row8_col16\" class=\"data row8 col16\" >0</td>\n",
       "      <td id=\"T_71043_row8_col17\" class=\"data row8 col17\" >0</td>\n",
       "    </tr>\n",
       "    <tr>\n",
       "      <th id=\"T_71043_level0_row9\" class=\"row_heading level0 row9\" >9</th>\n",
       "      <td id=\"T_71043_row9_col0\" class=\"data row9 col0\" >0</td>\n",
       "      <td id=\"T_71043_row9_col1\" class=\"data row9 col1\" >0</td>\n",
       "      <td id=\"T_71043_row9_col2\" class=\"data row9 col2\" >0</td>\n",
       "      <td id=\"T_71043_row9_col3\" class=\"data row9 col3\" >0</td>\n",
       "      <td id=\"T_71043_row9_col4\" class=\"data row9 col4\" >0</td>\n",
       "      <td id=\"T_71043_row9_col5\" class=\"data row9 col5\" >16</td>\n",
       "      <td id=\"T_71043_row9_col6\" class=\"data row9 col6\" >248</td>\n",
       "      <td id=\"T_71043_row9_col7\" class=\"data row9 col7\" >250</td>\n",
       "      <td id=\"T_71043_row9_col8\" class=\"data row9 col8\" >253</td>\n",
       "      <td id=\"T_71043_row9_col9\" class=\"data row9 col9\" >253</td>\n",
       "      <td id=\"T_71043_row9_col10\" class=\"data row9 col10\" >253</td>\n",
       "      <td id=\"T_71043_row9_col11\" class=\"data row9 col11\" >253</td>\n",
       "      <td id=\"T_71043_row9_col12\" class=\"data row9 col12\" >232</td>\n",
       "      <td id=\"T_71043_row9_col13\" class=\"data row9 col13\" >213</td>\n",
       "      <td id=\"T_71043_row9_col14\" class=\"data row9 col14\" >111</td>\n",
       "      <td id=\"T_71043_row9_col15\" class=\"data row9 col15\" >2</td>\n",
       "      <td id=\"T_71043_row9_col16\" class=\"data row9 col16\" >0</td>\n",
       "      <td id=\"T_71043_row9_col17\" class=\"data row9 col17\" >0</td>\n",
       "    </tr>\n",
       "    <tr>\n",
       "      <th id=\"T_71043_level0_row10\" class=\"row_heading level0 row10\" >10</th>\n",
       "      <td id=\"T_71043_row10_col0\" class=\"data row10 col0\" >0</td>\n",
       "      <td id=\"T_71043_row10_col1\" class=\"data row10 col1\" >0</td>\n",
       "      <td id=\"T_71043_row10_col2\" class=\"data row10 col2\" >0</td>\n",
       "      <td id=\"T_71043_row10_col3\" class=\"data row10 col3\" >0</td>\n",
       "      <td id=\"T_71043_row10_col4\" class=\"data row10 col4\" >0</td>\n",
       "      <td id=\"T_71043_row10_col5\" class=\"data row10 col5\" >0</td>\n",
       "      <td id=\"T_71043_row10_col6\" class=\"data row10 col6\" >0</td>\n",
       "      <td id=\"T_71043_row10_col7\" class=\"data row10 col7\" >43</td>\n",
       "      <td id=\"T_71043_row10_col8\" class=\"data row10 col8\" >98</td>\n",
       "      <td id=\"T_71043_row10_col9\" class=\"data row10 col9\" >98</td>\n",
       "      <td id=\"T_71043_row10_col10\" class=\"data row10 col10\" >208</td>\n",
       "      <td id=\"T_71043_row10_col11\" class=\"data row10 col11\" >253</td>\n",
       "      <td id=\"T_71043_row10_col12\" class=\"data row10 col12\" >253</td>\n",
       "      <td id=\"T_71043_row10_col13\" class=\"data row10 col13\" >253</td>\n",
       "      <td id=\"T_71043_row10_col14\" class=\"data row10 col14\" >253</td>\n",
       "      <td id=\"T_71043_row10_col15\" class=\"data row10 col15\" >187</td>\n",
       "      <td id=\"T_71043_row10_col16\" class=\"data row10 col16\" >22</td>\n",
       "      <td id=\"T_71043_row10_col17\" class=\"data row10 col17\" >0</td>\n",
       "    </tr>\n",
       "  </tbody>\n",
       "</table>\n"
      ],
      "text/plain": [
       "<pandas.io.formats.style.Styler at 0x106d54580>"
      ]
     },
     "execution_count": 11,
     "metadata": {},
     "output_type": "execute_result"
    }
   ],
   "source": [
    "im3_t = tensor(im3)\n",
    "df = pd.DataFrame(im3_t[4:15,4:22])\n",
    "df.style.set_properties(**{'font-size':'6pt'}).background_gradient('Greys')"
   ]
  },
  {
   "cell_type": "markdown",
   "metadata": {},
   "source": [
    "## First Try: Pixel Similarity"
   ]
  },
  {
   "cell_type": "code",
   "execution_count": null,
   "metadata": {},
   "outputs": [],
   "source": [
    "seven_tensors = [tensor(Image.open(o)) for o in sevens]\n",
    "three_tensors = [tensor(Image.open(o)) for o in threes]\n",
    "len(three_tensors),len(seven_tensors)"
   ]
  },
  {
   "cell_type": "code",
   "execution_count": null,
   "metadata": {},
   "outputs": [],
   "source": [
    "show_image(three_tensors[1]);"
   ]
  },
  {
   "cell_type": "code",
   "execution_count": null,
   "metadata": {},
   "outputs": [],
   "source": [
    "stacked_sevens = torch.stack(seven_tensors).float()/255\n",
    "stacked_threes = torch.stack(three_tensors).float()/255\n",
    "stacked_threes.shape"
   ]
  },
  {
   "cell_type": "code",
   "execution_count": null,
   "metadata": {},
   "outputs": [],
   "source": [
    "len(stacked_threes.shape)"
   ]
  },
  {
   "cell_type": "code",
   "execution_count": null,
   "metadata": {},
   "outputs": [],
   "source": [
    "stacked_threes.ndim"
   ]
  },
  {
   "cell_type": "code",
   "execution_count": null,
   "metadata": {},
   "outputs": [],
   "source": [
    "mean3 = stacked_threes.mean(0)\n",
    "show_image(mean3);"
   ]
  },
  {
   "cell_type": "code",
   "execution_count": null,
   "metadata": {},
   "outputs": [],
   "source": [
    "mean7 = stacked_sevens.mean(0)\n",
    "show_image(mean7);"
   ]
  },
  {
   "cell_type": "code",
   "execution_count": null,
   "metadata": {},
   "outputs": [],
   "source": [
    "a_3 = stacked_threes[1]\n",
    "show_image(a_3);"
   ]
  },
  {
   "cell_type": "code",
   "execution_count": null,
   "metadata": {},
   "outputs": [],
   "source": [
    "dist_3_abs = (a_3 - mean3).abs().mean()\n",
    "dist_3_sqr = ((a_3 - mean3)**2).mean().sqrt()\n",
    "dist_3_abs,dist_3_sqr"
   ]
  },
  {
   "cell_type": "code",
   "execution_count": null,
   "metadata": {},
   "outputs": [],
   "source": [
    "dist_7_abs = (a_3 - mean7).abs().mean()\n",
    "dist_7_sqr = ((a_3 - mean7)**2).mean().sqrt()\n",
    "dist_7_abs,dist_7_sqr"
   ]
  },
  {
   "cell_type": "code",
   "execution_count": null,
   "metadata": {},
   "outputs": [],
   "source": [
    "F.l1_loss(a_3.float(),mean7), F.mse_loss(a_3,mean7).sqrt()"
   ]
  },
  {
   "cell_type": "markdown",
   "metadata": {},
   "source": [
    "### NumPy Arrays and PyTorch Tensors"
   ]
  },
  {
   "cell_type": "code",
   "execution_count": null,
   "metadata": {},
   "outputs": [],
   "source": [
    "data = [[1,2,3],[4,5,6]]\n",
    "arr = array (data)\n",
    "tns = tensor(data)"
   ]
  },
  {
   "cell_type": "code",
   "execution_count": null,
   "metadata": {},
   "outputs": [],
   "source": [
    "arr  # numpy"
   ]
  },
  {
   "cell_type": "code",
   "execution_count": null,
   "metadata": {},
   "outputs": [],
   "source": [
    "tns  # pytorch"
   ]
  },
  {
   "cell_type": "code",
   "execution_count": null,
   "metadata": {},
   "outputs": [],
   "source": [
    "tns[1]"
   ]
  },
  {
   "cell_type": "code",
   "execution_count": null,
   "metadata": {},
   "outputs": [],
   "source": [
    "tns[:,1]"
   ]
  },
  {
   "cell_type": "code",
   "execution_count": null,
   "metadata": {},
   "outputs": [],
   "source": [
    "tns[1,1:3]"
   ]
  },
  {
   "cell_type": "code",
   "execution_count": null,
   "metadata": {},
   "outputs": [],
   "source": [
    "tns+1"
   ]
  },
  {
   "cell_type": "code",
   "execution_count": null,
   "metadata": {},
   "outputs": [],
   "source": [
    "tns.type()"
   ]
  },
  {
   "cell_type": "code",
   "execution_count": null,
   "metadata": {},
   "outputs": [],
   "source": [
    "tns*1.5"
   ]
  },
  {
   "cell_type": "markdown",
   "metadata": {},
   "source": [
    "## Computing Metrics Using Broadcasting"
   ]
  },
  {
   "cell_type": "code",
   "execution_count": null,
   "metadata": {},
   "outputs": [],
   "source": [
    "valid_3_tens = torch.stack([tensor(Image.open(o)) \n",
    "                            for o in (path/'valid'/'3').ls()])\n",
    "valid_3_tens = valid_3_tens.float()/255\n",
    "valid_7_tens = torch.stack([tensor(Image.open(o)) \n",
    "                            for o in (path/'valid'/'7').ls()])\n",
    "valid_7_tens = valid_7_tens.float()/255\n",
    "valid_3_tens.shape,valid_7_tens.shape"
   ]
  },
  {
   "cell_type": "code",
   "execution_count": null,
   "metadata": {},
   "outputs": [],
   "source": [
    "def mnist_distance(a,b): return (a-b).abs().mean((-1,-2))\n",
    "mnist_distance(a_3, mean3)"
   ]
  },
  {
   "cell_type": "code",
   "execution_count": null,
   "metadata": {},
   "outputs": [],
   "source": [
    "valid_3_dist = mnist_distance(valid_3_tens, mean3)\n",
    "valid_3_dist, valid_3_dist.shape"
   ]
  },
  {
   "cell_type": "code",
   "execution_count": null,
   "metadata": {},
   "outputs": [],
   "source": [
    "tensor([1,2,3]) + tensor(1)"
   ]
  },
  {
   "cell_type": "code",
   "execution_count": null,
   "metadata": {},
   "outputs": [],
   "source": [
    "(valid_3_tens-mean3).shape"
   ]
  },
  {
   "cell_type": "code",
   "execution_count": null,
   "metadata": {},
   "outputs": [],
   "source": [
    "def is_3(x): return mnist_distance(x,mean3) < mnist_distance(x,mean7)"
   ]
  },
  {
   "cell_type": "code",
   "execution_count": null,
   "metadata": {},
   "outputs": [],
   "source": [
    "is_3(a_3), is_3(a_3).float()"
   ]
  },
  {
   "cell_type": "code",
   "execution_count": null,
   "metadata": {},
   "outputs": [],
   "source": [
    "is_3(valid_3_tens)"
   ]
  },
  {
   "cell_type": "code",
   "execution_count": null,
   "metadata": {},
   "outputs": [],
   "source": [
    "accuracy_3s =      is_3(valid_3_tens).float() .mean()\n",
    "accuracy_7s = (1 - is_3(valid_7_tens).float()).mean()\n",
    "\n",
    "accuracy_3s,accuracy_7s,(accuracy_3s+accuracy_7s)/2"
   ]
  },
  {
   "cell_type": "markdown",
   "metadata": {},
   "source": [
    "## Stochastic Gradient Descent (SGD)"
   ]
  },
  {
   "cell_type": "code",
   "execution_count": null,
   "metadata": {},
   "outputs": [],
   "source": [
    "gv('''\n",
    "init->predict->loss->gradient->step->stop\n",
    "step->predict[label=repeat]\n",
    "''')"
   ]
  },
  {
   "cell_type": "code",
   "execution_count": null,
   "metadata": {},
   "outputs": [],
   "source": [
    "def f(x): return x**2"
   ]
  },
  {
   "cell_type": "code",
   "execution_count": null,
   "metadata": {},
   "outputs": [],
   "source": [
    "plot_function(f, 'x', 'x**2')"
   ]
  },
  {
   "cell_type": "code",
   "execution_count": null,
   "metadata": {},
   "outputs": [],
   "source": [
    "plot_function(f, 'x', 'x**2')\n",
    "plt.scatter(-1.5, f(-1.5), color='red');"
   ]
  },
  {
   "cell_type": "markdown",
   "metadata": {},
   "source": [
    "### Calculating Gradients"
   ]
  },
  {
   "cell_type": "code",
   "execution_count": null,
   "metadata": {},
   "outputs": [],
   "source": [
    "xt = tensor(3.).requires_grad_()"
   ]
  },
  {
   "cell_type": "code",
   "execution_count": null,
   "metadata": {},
   "outputs": [],
   "source": [
    "yt = f(xt)\n",
    "yt"
   ]
  },
  {
   "cell_type": "code",
   "execution_count": null,
   "metadata": {},
   "outputs": [],
   "source": [
    "yt.backward()"
   ]
  },
  {
   "cell_type": "code",
   "execution_count": null,
   "metadata": {},
   "outputs": [],
   "source": [
    "xt.grad"
   ]
  },
  {
   "cell_type": "code",
   "execution_count": null,
   "metadata": {},
   "outputs": [],
   "source": [
    "xt = tensor([3.,4.,10.]).requires_grad_()\n",
    "xt"
   ]
  },
  {
   "cell_type": "code",
   "execution_count": null,
   "metadata": {},
   "outputs": [],
   "source": [
    "def f(x): return (x**2).sum()\n",
    "\n",
    "yt = f(xt)\n",
    "yt"
   ]
  },
  {
   "cell_type": "code",
   "execution_count": null,
   "metadata": {},
   "outputs": [],
   "source": [
    "yt.backward()\n",
    "xt.grad"
   ]
  },
  {
   "cell_type": "markdown",
   "metadata": {},
   "source": [
    "### Stepping With a Learning Rate"
   ]
  },
  {
   "cell_type": "markdown",
   "metadata": {},
   "source": [
    "### An End-to-End SGD Example"
   ]
  },
  {
   "cell_type": "code",
   "execution_count": null,
   "metadata": {},
   "outputs": [],
   "source": [
    "time = torch.arange(0,20).float(); time"
   ]
  },
  {
   "cell_type": "code",
   "execution_count": null,
   "metadata": {},
   "outputs": [],
   "source": [
    "speed = torch.randn(20)*3 + 0.75*(time-9.5)**2 + 1\n",
    "plt.scatter(time,speed);"
   ]
  },
  {
   "cell_type": "code",
   "execution_count": null,
   "metadata": {},
   "outputs": [],
   "source": [
    "def f(t, params):\n",
    "    a,b,c = params\n",
    "    return a*(t**2) + (b*t) + c"
   ]
  },
  {
   "cell_type": "code",
   "execution_count": null,
   "metadata": {},
   "outputs": [],
   "source": [
    "def mse(preds, targets): return ((preds-targets)**2).mean()"
   ]
  },
  {
   "cell_type": "markdown",
   "metadata": {},
   "source": [
    "#### Step 1: Initialize the parameters"
   ]
  },
  {
   "cell_type": "code",
   "execution_count": null,
   "metadata": {},
   "outputs": [],
   "source": [
    "params = torch.randn(3).requires_grad_()"
   ]
  },
  {
   "cell_type": "code",
   "execution_count": null,
   "metadata": {},
   "outputs": [],
   "source": [
    "#hide\n",
    "orig_params = params.clone()"
   ]
  },
  {
   "cell_type": "markdown",
   "metadata": {},
   "source": [
    "#### Step 2: Calculate the predictions"
   ]
  },
  {
   "cell_type": "code",
   "execution_count": null,
   "metadata": {},
   "outputs": [],
   "source": [
    "preds = f(time, params)"
   ]
  },
  {
   "cell_type": "code",
   "execution_count": null,
   "metadata": {},
   "outputs": [],
   "source": [
    "def show_preds(preds, ax=None):\n",
    "    if ax is None: ax=plt.subplots()[1]\n",
    "    ax.scatter(time, speed)\n",
    "    ax.scatter(time, to_np(preds), color='red')\n",
    "    ax.set_ylim(-300,100)"
   ]
  },
  {
   "cell_type": "code",
   "execution_count": null,
   "metadata": {},
   "outputs": [],
   "source": [
    "show_preds(preds)"
   ]
  },
  {
   "cell_type": "markdown",
   "metadata": {},
   "source": [
    "#### Step 3: Calculate the loss"
   ]
  },
  {
   "cell_type": "code",
   "execution_count": null,
   "metadata": {},
   "outputs": [],
   "source": [
    "loss = mse(preds, speed)\n",
    "loss"
   ]
  },
  {
   "cell_type": "markdown",
   "metadata": {},
   "source": [
    "#### Step 4: Calculate the gradients"
   ]
  },
  {
   "cell_type": "code",
   "execution_count": null,
   "metadata": {},
   "outputs": [],
   "source": [
    "loss.backward()\n",
    "params.grad"
   ]
  },
  {
   "cell_type": "code",
   "execution_count": null,
   "metadata": {},
   "outputs": [],
   "source": [
    "params.grad * 1e-5"
   ]
  },
  {
   "cell_type": "code",
   "execution_count": null,
   "metadata": {},
   "outputs": [],
   "source": [
    "params"
   ]
  },
  {
   "cell_type": "markdown",
   "metadata": {},
   "source": [
    "#### Step 5: Step the weights. "
   ]
  },
  {
   "cell_type": "code",
   "execution_count": null,
   "metadata": {},
   "outputs": [],
   "source": [
    "lr = 1e-5\n",
    "params.data -= lr * params.grad.data\n",
    "params.grad = None"
   ]
  },
  {
   "cell_type": "code",
   "execution_count": null,
   "metadata": {},
   "outputs": [],
   "source": [
    "preds = f(time,params)\n",
    "mse(preds, speed)"
   ]
  },
  {
   "cell_type": "code",
   "execution_count": null,
   "metadata": {},
   "outputs": [],
   "source": [
    "show_preds(preds)"
   ]
  },
  {
   "cell_type": "code",
   "execution_count": null,
   "metadata": {},
   "outputs": [],
   "source": [
    "def apply_step(params, prn=True):\n",
    "    preds = f(time, params)\n",
    "    loss = mse(preds, speed)\n",
    "    loss.backward()\n",
    "    params.data -= lr * params.grad.data\n",
    "    params.grad = None\n",
    "    if prn: print(loss.item())\n",
    "    return preds"
   ]
  },
  {
   "cell_type": "markdown",
   "metadata": {},
   "source": [
    "#### Step 6: Repeat the process "
   ]
  },
  {
   "cell_type": "code",
   "execution_count": null,
   "metadata": {},
   "outputs": [],
   "source": [
    "for i in range(10): apply_step(params)"
   ]
  },
  {
   "cell_type": "code",
   "execution_count": null,
   "metadata": {},
   "outputs": [],
   "source": [
    "#hide\n",
    "params = orig_params.detach().requires_grad_()"
   ]
  },
  {
   "cell_type": "code",
   "execution_count": null,
   "metadata": {},
   "outputs": [],
   "source": [
    "_,axs = plt.subplots(1,4,figsize=(12,3))\n",
    "for ax in axs: show_preds(apply_step(params, False), ax)\n",
    "plt.tight_layout()"
   ]
  },
  {
   "cell_type": "markdown",
   "metadata": {},
   "source": [
    "#### Step 7: stop"
   ]
  },
  {
   "cell_type": "markdown",
   "metadata": {},
   "source": [
    "### Summarizing Gradient Descent"
   ]
  },
  {
   "cell_type": "code",
   "execution_count": null,
   "metadata": {},
   "outputs": [],
   "source": [
    "gv('''\n",
    "init->predict->loss->gradient->step->stop\n",
    "step->predict[label=repeat]\n",
    "''')"
   ]
  },
  {
   "cell_type": "markdown",
   "metadata": {},
   "source": [
    "## The MNIST Loss Function"
   ]
  },
  {
   "cell_type": "code",
   "execution_count": null,
   "metadata": {},
   "outputs": [],
   "source": [
    "train_x = torch.cat([stacked_threes, stacked_sevens]).view(-1, 28*28)"
   ]
  },
  {
   "cell_type": "code",
   "execution_count": null,
   "metadata": {},
   "outputs": [],
   "source": [
    "train_y = tensor([1]*len(threes) + [0]*len(sevens)).unsqueeze(1)\n",
    "train_x.shape,train_y.shape"
   ]
  },
  {
   "cell_type": "code",
   "execution_count": null,
   "metadata": {},
   "outputs": [],
   "source": [
    "dset = list(zip(train_x,train_y))\n",
    "x,y = dset[0]\n",
    "x.shape,y"
   ]
  },
  {
   "cell_type": "code",
   "execution_count": null,
   "metadata": {},
   "outputs": [],
   "source": [
    "valid_x = torch.cat([valid_3_tens, valid_7_tens]).view(-1, 28*28)\n",
    "valid_y = tensor([1]*len(valid_3_tens) + [0]*len(valid_7_tens)).unsqueeze(1)\n",
    "valid_dset = list(zip(valid_x,valid_y))"
   ]
  },
  {
   "cell_type": "code",
   "execution_count": null,
   "metadata": {},
   "outputs": [],
   "source": [
    "def init_params(size, std=1.0): return (torch.randn(size)*std).requires_grad_()"
   ]
  },
  {
   "cell_type": "code",
   "execution_count": null,
   "metadata": {},
   "outputs": [],
   "source": [
    "weights = init_params((28*28,1))"
   ]
  },
  {
   "cell_type": "code",
   "execution_count": null,
   "metadata": {},
   "outputs": [],
   "source": [
    "bias = init_params(1)"
   ]
  },
  {
   "cell_type": "code",
   "execution_count": null,
   "metadata": {},
   "outputs": [],
   "source": [
    "(train_x[0]*weights.T).sum() + bias"
   ]
  },
  {
   "cell_type": "code",
   "execution_count": null,
   "metadata": {},
   "outputs": [],
   "source": [
    "def linear1(xb): return xb@weights + bias\n",
    "preds = linear1(train_x)\n",
    "preds"
   ]
  },
  {
   "cell_type": "code",
   "execution_count": null,
   "metadata": {},
   "outputs": [],
   "source": [
    "corrects = (preds>0.0).float() == train_y\n",
    "corrects"
   ]
  },
  {
   "cell_type": "code",
   "execution_count": null,
   "metadata": {},
   "outputs": [],
   "source": [
    "corrects.float().mean().item()"
   ]
  },
  {
   "cell_type": "code",
   "execution_count": null,
   "metadata": {},
   "outputs": [],
   "source": [
    "with torch.no_grad(): weights[0] *= 1.0001"
   ]
  },
  {
   "cell_type": "code",
   "execution_count": null,
   "metadata": {},
   "outputs": [],
   "source": [
    "preds = linear1(train_x)\n",
    "((preds>0.0).float() == train_y).float().mean().item()"
   ]
  },
  {
   "cell_type": "code",
   "execution_count": null,
   "metadata": {},
   "outputs": [],
   "source": [
    "trgts  = tensor([1,0,1])\n",
    "prds   = tensor([0.9, 0.4, 0.2])"
   ]
  },
  {
   "cell_type": "code",
   "execution_count": null,
   "metadata": {},
   "outputs": [],
   "source": [
    "def mnist_loss(predictions, targets):\n",
    "    return torch.where(targets==1, 1-predictions, predictions).mean()"
   ]
  },
  {
   "cell_type": "code",
   "execution_count": null,
   "metadata": {},
   "outputs": [],
   "source": [
    "torch.where(trgts==1, 1-prds, prds)"
   ]
  },
  {
   "cell_type": "code",
   "execution_count": null,
   "metadata": {},
   "outputs": [],
   "source": [
    "mnist_loss(prds,trgts)"
   ]
  },
  {
   "cell_type": "code",
   "execution_count": null,
   "metadata": {},
   "outputs": [],
   "source": [
    "mnist_loss(tensor([0.9, 0.4, 0.8]),trgts)"
   ]
  },
  {
   "cell_type": "markdown",
   "metadata": {},
   "source": [
    "### Sigmoid"
   ]
  },
  {
   "cell_type": "code",
   "execution_count": null,
   "metadata": {},
   "outputs": [],
   "source": [
    "def sigmoid(x): return 1/(1+torch.exp(-x))"
   ]
  },
  {
   "cell_type": "code",
   "execution_count": null,
   "metadata": {},
   "outputs": [],
   "source": [
    "plot_function(torch.sigmoid, title='Sigmoid', min=-4, max=4)"
   ]
  },
  {
   "cell_type": "code",
   "execution_count": null,
   "metadata": {},
   "outputs": [],
   "source": [
    "def mnist_loss(predictions, targets):\n",
    "    predictions = predictions.sigmoid()\n",
    "    return torch.where(targets==1, 1-predictions, predictions).mean()"
   ]
  },
  {
   "cell_type": "markdown",
   "metadata": {},
   "source": [
    "### SGD and Mini-Batches"
   ]
  },
  {
   "cell_type": "code",
   "execution_count": null,
   "metadata": {},
   "outputs": [],
   "source": [
    "coll = range(15)\n",
    "dl = DataLoader(coll, batch_size=5, shuffle=True)\n",
    "list(dl)"
   ]
  },
  {
   "cell_type": "code",
   "execution_count": null,
   "metadata": {},
   "outputs": [],
   "source": [
    "ds = L(enumerate(string.ascii_lowercase))\n",
    "ds"
   ]
  },
  {
   "cell_type": "code",
   "execution_count": null,
   "metadata": {},
   "outputs": [],
   "source": [
    "dl = DataLoader(ds, batch_size=6, shuffle=True)\n",
    "list(dl)"
   ]
  },
  {
   "cell_type": "markdown",
   "metadata": {},
   "source": [
    "## Putting It All Together"
   ]
  },
  {
   "cell_type": "code",
   "execution_count": null,
   "metadata": {},
   "outputs": [],
   "source": [
    "weights = init_params((28*28,1))\n",
    "bias = init_params(1)"
   ]
  },
  {
   "cell_type": "code",
   "execution_count": null,
   "metadata": {},
   "outputs": [],
   "source": [
    "dl = DataLoader(dset, batch_size=256)\n",
    "xb,yb = first(dl)\n",
    "xb.shape,yb.shape"
   ]
  },
  {
   "cell_type": "code",
   "execution_count": null,
   "metadata": {},
   "outputs": [],
   "source": [
    "valid_dl = DataLoader(valid_dset, batch_size=256)"
   ]
  },
  {
   "cell_type": "code",
   "execution_count": null,
   "metadata": {},
   "outputs": [],
   "source": [
    "batch = train_x[:4]\n",
    "batch.shape"
   ]
  },
  {
   "cell_type": "code",
   "execution_count": null,
   "metadata": {},
   "outputs": [],
   "source": [
    "preds = linear1(batch)\n",
    "preds"
   ]
  },
  {
   "cell_type": "code",
   "execution_count": null,
   "metadata": {},
   "outputs": [],
   "source": [
    "loss = mnist_loss(preds, train_y[:4])\n",
    "loss"
   ]
  },
  {
   "cell_type": "code",
   "execution_count": null,
   "metadata": {},
   "outputs": [],
   "source": [
    "loss.backward()\n",
    "weights.grad.shape,weights.grad.mean(),bias.grad"
   ]
  },
  {
   "cell_type": "code",
   "execution_count": null,
   "metadata": {},
   "outputs": [],
   "source": [
    "def calc_grad(xb, yb, model):\n",
    "    preds = model(xb)\n",
    "    loss = mnist_loss(preds, yb)\n",
    "    loss.backward()"
   ]
  },
  {
   "cell_type": "code",
   "execution_count": null,
   "metadata": {},
   "outputs": [],
   "source": [
    "calc_grad(batch, train_y[:4], linear1)\n",
    "weights.grad.mean(),bias.grad"
   ]
  },
  {
   "cell_type": "code",
   "execution_count": null,
   "metadata": {},
   "outputs": [],
   "source": [
    "calc_grad(batch, train_y[:4], linear1)\n",
    "weights.grad.mean(),bias.grad"
   ]
  },
  {
   "cell_type": "code",
   "execution_count": null,
   "metadata": {},
   "outputs": [],
   "source": [
    "weights.grad.zero_()\n",
    "bias.grad.zero_();"
   ]
  },
  {
   "cell_type": "code",
   "execution_count": null,
   "metadata": {},
   "outputs": [],
   "source": [
    "def train_epoch(model, lr, params):\n",
    "    for xb,yb in dl:\n",
    "        calc_grad(xb, yb, model)\n",
    "        for p in params:\n",
    "            p.data -= p.grad*lr\n",
    "            p.grad.zero_()"
   ]
  },
  {
   "cell_type": "code",
   "execution_count": null,
   "metadata": {},
   "outputs": [],
   "source": [
    "(preds>0.0).float() == train_y[:4]"
   ]
  },
  {
   "cell_type": "code",
   "execution_count": null,
   "metadata": {},
   "outputs": [],
   "source": [
    "def batch_accuracy(xb, yb):\n",
    "    preds = xb.sigmoid()\n",
    "    correct = (preds>0.5) == yb\n",
    "    return correct.float().mean()"
   ]
  },
  {
   "cell_type": "code",
   "execution_count": null,
   "metadata": {},
   "outputs": [],
   "source": [
    "batch_accuracy(linear1(batch), train_y[:4])"
   ]
  },
  {
   "cell_type": "code",
   "execution_count": null,
   "metadata": {},
   "outputs": [],
   "source": [
    "def validate_epoch(model):\n",
    "    accs = [batch_accuracy(model(xb), yb) for xb,yb in valid_dl]\n",
    "    return round(torch.stack(accs).mean().item(), 4)"
   ]
  },
  {
   "cell_type": "code",
   "execution_count": null,
   "metadata": {},
   "outputs": [],
   "source": [
    "validate_epoch(linear1)"
   ]
  },
  {
   "cell_type": "code",
   "execution_count": null,
   "metadata": {},
   "outputs": [],
   "source": [
    "lr = 1.\n",
    "params = weights,bias\n",
    "train_epoch(linear1, lr, params)\n",
    "validate_epoch(linear1)"
   ]
  },
  {
   "cell_type": "code",
   "execution_count": null,
   "metadata": {},
   "outputs": [],
   "source": [
    "for i in range(20):\n",
    "    train_epoch(linear1, lr, params)\n",
    "    print(validate_epoch(linear1), end=' ')"
   ]
  },
  {
   "cell_type": "markdown",
   "metadata": {},
   "source": [
    "### Creating an Optimizer"
   ]
  },
  {
   "cell_type": "code",
   "execution_count": null,
   "metadata": {},
   "outputs": [],
   "source": [
    "linear_model = nn.Linear(28*28,1)"
   ]
  },
  {
   "cell_type": "code",
   "execution_count": null,
   "metadata": {},
   "outputs": [],
   "source": [
    "w,b = linear_model.parameters()\n",
    "w.shape,b.shape"
   ]
  },
  {
   "cell_type": "code",
   "execution_count": null,
   "metadata": {},
   "outputs": [],
   "source": [
    "class BasicOptim:\n",
    "    def __init__(self,params,lr): self.params,self.lr = list(params),lr\n",
    "\n",
    "    def step(self, *args, **kwargs):\n",
    "        for p in self.params: p.data -= p.grad.data * self.lr\n",
    "\n",
    "    def zero_grad(self, *args, **kwargs):\n",
    "        for p in self.params: p.grad = None"
   ]
  },
  {
   "cell_type": "code",
   "execution_count": null,
   "metadata": {},
   "outputs": [],
   "source": [
    "opt = BasicOptim(linear_model.parameters(), lr)"
   ]
  },
  {
   "cell_type": "code",
   "execution_count": null,
   "metadata": {},
   "outputs": [],
   "source": [
    "def train_epoch(model):\n",
    "    for xb,yb in dl:\n",
    "        calc_grad(xb, yb, model)\n",
    "        opt.step()\n",
    "        opt.zero_grad()"
   ]
  },
  {
   "cell_type": "code",
   "execution_count": null,
   "metadata": {},
   "outputs": [],
   "source": [
    "validate_epoch(linear_model)"
   ]
  },
  {
   "cell_type": "code",
   "execution_count": null,
   "metadata": {},
   "outputs": [],
   "source": [
    "def train_model(model, epochs):\n",
    "    for i in range(epochs):\n",
    "        train_epoch(model)\n",
    "        print(validate_epoch(model), end=' ')"
   ]
  },
  {
   "cell_type": "code",
   "execution_count": null,
   "metadata": {},
   "outputs": [],
   "source": [
    "train_model(linear_model, 20)"
   ]
  },
  {
   "cell_type": "code",
   "execution_count": null,
   "metadata": {},
   "outputs": [],
   "source": [
    "linear_model = nn.Linear(28*28,1)\n",
    "opt = SGD(linear_model.parameters(), lr)\n",
    "train_model(linear_model, 20)"
   ]
  },
  {
   "cell_type": "code",
   "execution_count": null,
   "metadata": {},
   "outputs": [],
   "source": [
    "dls = DataLoaders(dl, valid_dl)"
   ]
  },
  {
   "cell_type": "code",
   "execution_count": null,
   "metadata": {},
   "outputs": [],
   "source": [
    "learn = Learner(dls, nn.Linear(28*28,1), opt_func=SGD,\n",
    "                loss_func=mnist_loss, metrics=batch_accuracy)"
   ]
  },
  {
   "cell_type": "code",
   "execution_count": null,
   "metadata": {},
   "outputs": [],
   "source": [
    "learn.fit(10, lr=lr)"
   ]
  },
  {
   "cell_type": "markdown",
   "metadata": {},
   "source": [
    "## Adding a Nonlinearity"
   ]
  },
  {
   "cell_type": "code",
   "execution_count": null,
   "metadata": {},
   "outputs": [],
   "source": [
    "def simple_net(xb): \n",
    "    res = xb@w1 + b1\n",
    "    res = res.max(tensor(0.0))\n",
    "    res = res@w2 + b2\n",
    "    return res"
   ]
  },
  {
   "cell_type": "code",
   "execution_count": null,
   "metadata": {},
   "outputs": [],
   "source": [
    "w1 = init_params((28*28,30))\n",
    "b1 = init_params(30)\n",
    "w2 = init_params((30,1))\n",
    "b2 = init_params(1)"
   ]
  },
  {
   "cell_type": "code",
   "execution_count": null,
   "metadata": {},
   "outputs": [],
   "source": [
    "plot_function(F.relu)"
   ]
  },
  {
   "cell_type": "code",
   "execution_count": null,
   "metadata": {},
   "outputs": [],
   "source": [
    "simple_net = nn.Sequential(\n",
    "    nn.Linear(28*28,30),\n",
    "    nn.ReLU(),\n",
    "    nn.Linear(30,1)\n",
    ")"
   ]
  },
  {
   "cell_type": "code",
   "execution_count": null,
   "metadata": {},
   "outputs": [],
   "source": [
    "learn = Learner(dls, simple_net, opt_func=SGD,\n",
    "                loss_func=mnist_loss, metrics=batch_accuracy)"
   ]
  },
  {
   "cell_type": "code",
   "execution_count": null,
   "metadata": {},
   "outputs": [],
   "source": [
    "learn.fit(40, 0.1)"
   ]
  },
  {
   "cell_type": "code",
   "execution_count": null,
   "metadata": {},
   "outputs": [],
   "source": [
    "plt.plot(L(learn.recorder.values).itemgot(2));"
   ]
  },
  {
   "cell_type": "code",
   "execution_count": null,
   "metadata": {},
   "outputs": [],
   "source": [
    "learn.recorder.values[-1][2]"
   ]
  },
  {
   "cell_type": "markdown",
   "metadata": {},
   "source": [
    "### Going Deeper"
   ]
  },
  {
   "cell_type": "code",
   "execution_count": null,
   "metadata": {},
   "outputs": [],
   "source": [
    "dls = ImageDataLoaders.from_folder(path)\n",
    "learn = vision_learner(dls, resnet18, pretrained=False,\n",
    "                    loss_func=F.cross_entropy, metrics=accuracy)\n",
    "learn.fit_one_cycle(1, 0.1)"
   ]
  },
  {
   "cell_type": "markdown",
   "metadata": {},
   "source": [
    "## Jargon Recap"
   ]
  },
  {
   "cell_type": "markdown",
   "metadata": {},
   "source": [
    "## Questionnaire"
   ]
  },
  {
   "cell_type": "markdown",
   "metadata": {},
   "source": [
    "1. How is a grayscale image represented on a computer? How about a color image?\n",
    "1. How are the files and folders in the `MNIST_SAMPLE` dataset structured? Why?\n",
    "1. Explain how the \"pixel similarity\" approach to classifying digits works.\n",
    "1. What is a list comprehension? Create one now that selects odd numbers from a list and doubles them.\n",
    "1. What is a \"rank-3 tensor\"?\n",
    "1. What is the difference between tensor rank and shape? How do you get the rank from the shape?\n",
    "1. What are RMSE and L1 norm?\n",
    "1. How can you apply a calculation on thousands of numbers at once, many thousands of times faster than a Python loop?\n",
    "1. Create a 3×3 tensor or array containing the numbers from 1 to 9. Double it. Select the bottom-right four numbers.\n",
    "1. What is broadcasting?\n",
    "1. Are metrics generally calculated using the training set, or the validation set? Why?\n",
    "1. What is SGD?\n",
    "1. Why does SGD use mini-batches?\n",
    "1. What are the seven steps in SGD for machine learning?\n",
    "1. How do we initialize the weights in a model?\n",
    "1. What is \"loss\"?\n",
    "1. Why can't we always use a high learning rate?\n",
    "1. What is a \"gradient\"?\n",
    "1. Do you need to know how to calculate gradients yourself?\n",
    "1. Why can't we use accuracy as a loss function?\n",
    "1. Draw the sigmoid function. What is special about its shape?\n",
    "1. What is the difference between a loss function and a metric?\n",
    "1. What is the function to calculate new weights using a learning rate?\n",
    "1. What does the `DataLoader` class do?\n",
    "1. Write pseudocode showing the basic steps taken in each epoch for SGD.\n",
    "1. Create a function that, if passed two arguments `[1,2,3,4]` and `'abcd'`, returns `[(1, 'a'), (2, 'b'), (3, 'c'), (4, 'd')]`. What is special about that output data structure?\n",
    "1. What does `view` do in PyTorch?\n",
    "1. What are the \"bias\" parameters in a neural network? Why do we need them?\n",
    "1. What does the `@` operator do in Python?\n",
    "1. What does the `backward` method do?\n",
    "1. Why do we have to zero the gradients?\n",
    "1. What information do we have to pass to `Learner`?\n",
    "1. Show Python or pseudocode for the basic steps of a training loop.\n",
    "1. What is \"ReLU\"? Draw a plot of it for values from `-2` to `+2`.\n",
    "1. What is an \"activation function\"?\n",
    "1. What's the difference between `F.relu` and `nn.ReLU`?\n",
    "1. The universal approximation theorem shows that any function can be approximated as closely as needed using just one nonlinearity. So why do we normally use more?"
   ]
  },
  {
   "cell_type": "markdown",
   "metadata": {},
   "source": [
    "### Further Research"
   ]
  },
  {
   "cell_type": "markdown",
   "metadata": {},
   "source": [
    "1. Create your own implementation of `Learner` from scratch, based on the training loop shown in this chapter.\n",
    "1. Complete all the steps in this chapter using the full MNIST datasets (that is, for all digits, not just 3s and 7s). This is a significant project and will take you quite a bit of time to complete! You'll need to do some of your own research to figure out how to overcome some obstacles you'll meet on the way."
   ]
  },
  {
   "cell_type": "code",
   "execution_count": null,
   "metadata": {},
   "outputs": [],
   "source": []
  }
 ],
 "metadata": {
  "jupytext": {
   "split_at_heading": true
  },
  "kernelspec": {
   "display_name": "Python 3 (ipykernel)",
   "language": "python",
   "name": "python3"
  },
  "language_info": {
   "codemirror_mode": {
    "name": "ipython",
    "version": 3
   },
   "file_extension": ".py",
   "mimetype": "text/x-python",
   "name": "python",
   "nbconvert_exporter": "python",
   "pygments_lexer": "ipython3",
   "version": "3.9.10"
  }
 },
 "nbformat": 4,
 "nbformat_minor": 4
}
